{
 "cells": [
  {
   "cell_type": "markdown",
   "metadata": {},
   "source": [
    "Andrew Ryan\n",
    "\n",
    "Andrew Ryan@pitt.edu\n",
    "\n",
    "9/5/2017"
   ]
  },
  {
   "cell_type": "markdown",
   "metadata": {},
   "source": [
    "Dolch Word List is a list of 220 common English words put together by Edward William Dolch. They are comprised of words from children's books and are considered words that you must know in order to have a higher grasp of the English language.\n",
    "\n",
    "The Dolch Word List is available for [download](http://www.nltk.org/nltk_data/) as ***item 19***.\n",
    "\n",
    "Files without extensions are tagged for *parts of speech*. They can be opened and read with a text editor.\n",
    "\n",
    "No license is listed in the downloaded files."
   ]
  },
  {
   "cell_type": "code",
   "execution_count": 68,
   "metadata": {},
   "outputs": [
    {
     "name": "stdout",
     "output_type": "stream",
     "text": [
      "There are 325 words in this list\n",
      "Here are some example words: ['day', 'dog', 'doll', 'door', 'duck']\n",
      "Enter a sentence to see what percentage of your words are found in the list:cat dool\n",
      "0.030612244897959183\n"
     ]
    }
   ],
   "source": [
    "import nltk, glob\n",
    "\n",
    "def check(sent):\n",
    "    \"Find percentage of words from a sentence found in list\"\n",
    "    num = 0\n",
    "    denom = 0\n",
    "    \n",
    "    for word in sent:\n",
    "        if word in allwords:\n",
    "            num += 1\n",
    "        denom = len(sent)\n",
    "    return num/denom\n",
    "\n",
    "posfiles = glob.glob(r'data\\dolch\\*')\n",
    "alltxt = {}\n",
    "allwords = []\n",
    "for file in posfiles:\n",
    "    f = open(file)\n",
    "    curr = f.readlines()\n",
    "    for word in curr:\n",
    "        allwords.append(word.strip('\\n'))\n",
    "    alltxt[file] = curr\n",
    "\n",
    "print(\"There are\", len(allwords), \"words in this list\")\n",
    "print(\"Here are some example words:\",allwords[110:115])\n",
    "sent = input(\"Enter a sentence to see what percentage of your words are found in the list:\")\n",
    "check(str(input))"
   ]
  }
 ],
 "metadata": {
  "kernelspec": {
   "display_name": "Python 3",
   "language": "python",
   "name": "python3"
  }
 },
 "nbformat": 4,
 "nbformat_minor": 2
}
